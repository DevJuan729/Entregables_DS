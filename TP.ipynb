{
 "cells": [
  {
   "cell_type": "markdown",
   "id": "13fd9f21",
   "metadata": {},
   "source": [
    "# Trabajo Practico Numero 1\n",
    "___"
   ]
  },
  {
   "cell_type": "code",
   "execution_count": 1,
   "id": "7bc5b417",
   "metadata": {},
   "outputs": [],
   "source": [
    "# importamos las librerias necesarias\n",
    "import pandas as pd\n",
    "import numpy as np\n",
    "import re\n",
    "import matplotlib as mpl\n",
    "import matplotlib.pyplot as plt\n",
    "import seaborn as sns"
   ]
  },
  {
   "cell_type": "code",
   "execution_count": 3,
   "id": "4538f92e",
   "metadata": {},
   "outputs": [
    {
     "name": "stdout",
     "output_type": "stream",
     "text": [
      "(121220, 26)\n"
     ]
    },
    {
     "data": {
      "text/html": [
       "<div>\n",
       "<style scoped>\n",
       "    .dataframe tbody tr th:only-of-type {\n",
       "        vertical-align: middle;\n",
       "    }\n",
       "\n",
       "    .dataframe tbody tr th {\n",
       "        vertical-align: top;\n",
       "    }\n",
       "\n",
       "    .dataframe thead th {\n",
       "        text-align: right;\n",
       "    }\n",
       "</style>\n",
       "<table border=\"1\" class=\"dataframe\">\n",
       "  <thead>\n",
       "    <tr style=\"text-align: right;\">\n",
       "      <th></th>\n",
       "      <th>Unnamed: 0</th>\n",
       "      <th>operation</th>\n",
       "      <th>property_type</th>\n",
       "      <th>place_name</th>\n",
       "      <th>place_with_parent_names</th>\n",
       "      <th>country_name</th>\n",
       "      <th>state_name</th>\n",
       "      <th>geonames_id</th>\n",
       "      <th>lat-lon</th>\n",
       "      <th>lat</th>\n",
       "      <th>...</th>\n",
       "      <th>surface_covered_in_m2</th>\n",
       "      <th>price_usd_per_m2</th>\n",
       "      <th>price_per_m2</th>\n",
       "      <th>floor</th>\n",
       "      <th>rooms</th>\n",
       "      <th>expenses</th>\n",
       "      <th>properati_url</th>\n",
       "      <th>description</th>\n",
       "      <th>title</th>\n",
       "      <th>image_thumbnail</th>\n",
       "    </tr>\n",
       "  </thead>\n",
       "  <tbody>\n",
       "    <tr>\n",
       "      <th>0</th>\n",
       "      <td>0</td>\n",
       "      <td>sell</td>\n",
       "      <td>PH</td>\n",
       "      <td>Mataderos</td>\n",
       "      <td>|Argentina|Capital Federal|Mataderos|</td>\n",
       "      <td>Argentina</td>\n",
       "      <td>Capital Federal</td>\n",
       "      <td>3430787.0</td>\n",
       "      <td>-34.6618237,-58.5088387</td>\n",
       "      <td>-34.661824</td>\n",
       "      <td>...</td>\n",
       "      <td>40.0</td>\n",
       "      <td>1127.272727</td>\n",
       "      <td>1550.0</td>\n",
       "      <td>NaN</td>\n",
       "      <td>NaN</td>\n",
       "      <td>NaN</td>\n",
       "      <td>http://www.properati.com.ar/15bo8_venta_ph_mat...</td>\n",
       "      <td>2 AMBIENTES TIPO CASA PLANTA BAJA POR PASILLO,...</td>\n",
       "      <td>2 AMB TIPO CASA SIN EXPENSAS EN PB</td>\n",
       "      <td>https://thumbs4.properati.com/8/BluUYiHJLhgIIK...</td>\n",
       "    </tr>\n",
       "    <tr>\n",
       "      <th>1</th>\n",
       "      <td>1</td>\n",
       "      <td>sell</td>\n",
       "      <td>apartment</td>\n",
       "      <td>La Plata</td>\n",
       "      <td>|Argentina|Bs.As. G.B.A. Zona Sur|La Plata|</td>\n",
       "      <td>Argentina</td>\n",
       "      <td>Bs.As. G.B.A. Zona Sur</td>\n",
       "      <td>3432039.0</td>\n",
       "      <td>-34.9038831,-57.9643295</td>\n",
       "      <td>-34.903883</td>\n",
       "      <td>...</td>\n",
       "      <td>NaN</td>\n",
       "      <td>NaN</td>\n",
       "      <td>NaN</td>\n",
       "      <td>NaN</td>\n",
       "      <td>NaN</td>\n",
       "      <td>NaN</td>\n",
       "      <td>http://www.properati.com.ar/15bob_venta_depart...</td>\n",
       "      <td>Venta de departamento en décimo piso al frente...</td>\n",
       "      <td>VENTA Depto 2 dorm. a estrenar 7 e/ 36 y 37   ...</td>\n",
       "      <td>https://thumbs4.properati.com/7/ikpVBu2ztHA7jv...</td>\n",
       "    </tr>\n",
       "  </tbody>\n",
       "</table>\n",
       "<p>2 rows × 26 columns</p>\n",
       "</div>"
      ],
      "text/plain": [
       "   Unnamed: 0 operation property_type place_name  \\\n",
       "0           0      sell            PH  Mataderos   \n",
       "1           1      sell     apartment   La Plata   \n",
       "\n",
       "                       place_with_parent_names country_name  \\\n",
       "0        |Argentina|Capital Federal|Mataderos|    Argentina   \n",
       "1  |Argentina|Bs.As. G.B.A. Zona Sur|La Plata|    Argentina   \n",
       "\n",
       "               state_name  geonames_id                  lat-lon        lat  \\\n",
       "0         Capital Federal    3430787.0  -34.6618237,-58.5088387 -34.661824   \n",
       "1  Bs.As. G.B.A. Zona Sur    3432039.0  -34.9038831,-57.9643295 -34.903883   \n",
       "\n",
       "   ...  surface_covered_in_m2  price_usd_per_m2 price_per_m2  floor  rooms  \\\n",
       "0  ...                   40.0       1127.272727       1550.0    NaN    NaN   \n",
       "1  ...                    NaN               NaN          NaN    NaN    NaN   \n",
       "\n",
       "   expenses                                      properati_url  \\\n",
       "0       NaN  http://www.properati.com.ar/15bo8_venta_ph_mat...   \n",
       "1       NaN  http://www.properati.com.ar/15bob_venta_depart...   \n",
       "\n",
       "                                         description  \\\n",
       "0  2 AMBIENTES TIPO CASA PLANTA BAJA POR PASILLO,...   \n",
       "1  Venta de departamento en décimo piso al frente...   \n",
       "\n",
       "                                               title  \\\n",
       "0                 2 AMB TIPO CASA SIN EXPENSAS EN PB   \n",
       "1  VENTA Depto 2 dorm. a estrenar 7 e/ 36 y 37   ...   \n",
       "\n",
       "                                     image_thumbnail  \n",
       "0  https://thumbs4.properati.com/8/BluUYiHJLhgIIK...  \n",
       "1  https://thumbs4.properati.com/7/ikpVBu2ztHA7jv...  \n",
       "\n",
       "[2 rows x 26 columns]"
      ]
     },
     "execution_count": 3,
     "metadata": {},
     "output_type": "execute_result"
    }
   ],
   "source": [
    "#Importamos el dataset \n",
    "data_properati = pd.read_csv('properatti.csv', sep=\",\")\n",
    "print(data_properati.shape)\n",
    "data_properati.head(2)"
   ]
  },
  {
   "cell_type": "markdown",
   "id": "b2a75515",
   "metadata": {},
   "source": [
    "## Analisis exploratorio de datos\n",
    "___"
   ]
  },
  {
   "cell_type": "code",
   "execution_count": 3,
   "id": "bb0825c9",
   "metadata": {},
   "outputs": [
    {
     "data": {
      "text/plain": [
       "Unnamed: 0                      int64\n",
       "operation                      object\n",
       "property_type                  object\n",
       "place_name                     object\n",
       "place_with_parent_names        object\n",
       "country_name                   object\n",
       "state_name                     object\n",
       "geonames_id                   float64\n",
       "lat-lon                        object\n",
       "lat                           float64\n",
       "lon                           float64\n",
       "price                         float64\n",
       "currency                       object\n",
       "price_aprox_local_currency    float64\n",
       "price_aprox_usd               float64\n",
       "surface_total_in_m2           float64\n",
       "surface_covered_in_m2         float64\n",
       "price_usd_per_m2              float64\n",
       "price_per_m2                  float64\n",
       "floor                         float64\n",
       "rooms                         float64\n",
       "expenses                      float64\n",
       "properati_url                  object\n",
       "description                    object\n",
       "title                          object\n",
       "image_thumbnail                object\n",
       "dtype: object"
      ]
     },
     "execution_count": 3,
     "metadata": {},
     "output_type": "execute_result"
    }
   ],
   "source": [
    "#Analizamos el tipo de columnas y porcentaje de datos na de cada columna.\n",
    "#Se observa que se encuentran en los tipos de datos correspondientes\n",
    "data_properati.dtypes"
   ]
  },
  {
   "cell_type": "code",
   "execution_count": 4,
   "id": "281d9e2b",
   "metadata": {},
   "outputs": [
    {
     "data": {
      "text/plain": [
       "Unnamed: 0                    0.000000\n",
       "operation                     0.000000\n",
       "property_type                 0.000000\n",
       "place_name                    0.000190\n",
       "place_with_parent_names       0.000000\n",
       "country_name                  0.000000\n",
       "state_name                    0.000000\n",
       "geonames_id                   0.154405\n",
       "lat-lon                       0.425260\n",
       "lat                           0.425260\n",
       "lon                           0.425260\n",
       "price                         0.168372\n",
       "currency                      0.168380\n",
       "price_aprox_local_currency    0.168372\n",
       "price_aprox_usd               0.168372\n",
       "surface_total_in_m2           0.324435\n",
       "surface_covered_in_m2         0.164222\n",
       "price_usd_per_m2              0.433947\n",
       "price_per_m2                  0.276869\n",
       "floor                         0.934837\n",
       "rooms                         0.609058\n",
       "expenses                      0.882346\n",
       "properati_url                 0.000000\n",
       "description                   0.000016\n",
       "title                         0.000000\n",
       "image_thumbnail               0.025672\n",
       "dtype: float64"
      ]
     },
     "execution_count": 4,
     "metadata": {},
     "output_type": "execute_result"
    }
   ],
   "source": [
    "data_properati.isna().mean()"
   ]
  },
  {
   "cell_type": "code",
   "execution_count": null,
   "id": "d1014a08",
   "metadata": {},
   "outputs": [],
   "source": [
    "\"\"\"\n",
    "Nos hacemos preguntas sobre cada variables\n",
    "\n",
    "¿Que tipos de operaciones encontramos y cuantas son?\n",
    "\n",
    "¿Que tipo de propiedades existen y cuantas son?\n",
    "\n",
    "PARA PLACE_NAME ?\n",
    "\n",
    "¿Qué paises paises se encuentra en nuestro dataset?\n",
    "\n",
    "¿En que monedas se encuentran los precios? \n",
    "¿Entre que precios oscilan las viviendas?\n",
    "\n",
    "¿Entre que superficies oscilan las propiedades?\n",
    "\n",
    "\"\"\""
   ]
  },
  {
   "cell_type": "code",
   "execution_count": 10,
   "id": "9537a332",
   "metadata": {},
   "outputs": [
    {
     "data": {
      "text/plain": [
       "sell    121220\n",
       "Name: operation, dtype: int64"
      ]
     },
     "execution_count": 10,
     "metadata": {},
     "output_type": "execute_result"
    }
   ],
   "source": [
    "#¿Que tipos de operaciones encontramos y cuantas son?\n",
    "data_properati['operation'].value_counts()"
   ]
  },
  {
   "cell_type": "code",
   "execution_count": 9,
   "id": "a385ea8f",
   "metadata": {},
   "outputs": [
    {
     "data": {
      "text/plain": [
       "apartment    71065\n",
       "house        40268\n",
       "PH            5751\n",
       "store         4136\n",
       "Name: property_type, dtype: int64"
      ]
     },
     "execution_count": 9,
     "metadata": {},
     "output_type": "execute_result"
    }
   ],
   "source": [
    "#¿Que tipo de propiedades existen y cuantas son?\n",
    "data_properati['property_type'].value_counts()"
   ]
  },
  {
   "cell_type": "code",
   "execution_count": 7,
   "id": "1a481506",
   "metadata": {},
   "outputs": [
    {
     "data": {
      "text/plain": [
       "Argentina    121220\n",
       "Name: country_name, dtype: int64"
      ]
     },
     "execution_count": 7,
     "metadata": {},
     "output_type": "execute_result"
    }
   ],
   "source": [
    "#¿Qué paises se encuentra en nuestro dataset?\n",
    "data_properati['country_name'].value_counts()"
   ]
  },
  {
   "cell_type": "code",
   "execution_count": 5,
   "id": "75edf380",
   "metadata": {},
   "outputs": [
    {
     "name": "stdout",
     "output_type": "stream",
     "text": [
      "USD    87587\n",
      "ARS    13219\n",
      "PEN        2\n",
      "UYU        1\n",
      "Name: currency, dtype: int64\n",
      "Total de datos no nullos: 100809\n",
      "Total datos faltantes: 20411\n"
     ]
    }
   ],
   "source": [
    "#¿En que monedas se encuentran los precios y cuantos valores faltan? \n",
    "print(data_properati['currency'].value_counts())\n",
    "print('Total de datos no nullos:', data_properati['currency'].notna().sum())\n",
    "print('Total datos faltantes:',data_properati['currency'].isna().sum())"
   ]
  },
  {
   "cell_type": "code",
   "execution_count": 9,
   "id": "bd029c1b",
   "metadata": {},
   "outputs": [],
   "source": [
    "#Función que nos permite determinar minimos, maximos y medidas\n",
    "#de tendencia central \n",
    "def min_max(variable):\n",
    "    print('Minimo:', data_properati[f'{variable}'].min())\n",
    "    print('Maximo:', data_properati[f'{variable}'].max())\n",
    "    print('Promedio:', data_properati[f'{variable}'].mean())\n",
    "    #print('Mediana:', data_properati[f'{variable}'].median())"
   ]
  },
  {
   "cell_type": "code",
   "execution_count": 10,
   "id": "fb56dc90",
   "metadata": {},
   "outputs": [
    {
     "name": "stdout",
     "output_type": "stream",
     "text": [
      "Minimo: 0.0\n",
      "Maximo: 46545445.0\n",
      "Promedio: 239700.5769284793\n"
     ]
    }
   ],
   "source": [
    "#¿Entre que precios oscilan las viviendas? (en dolares)\n",
    "min_max('price_aprox_usd')"
   ]
  },
  {
   "cell_type": "code",
   "execution_count": 11,
   "id": "5e0f4472",
   "metadata": {},
   "outputs": [
    {
     "name": "stdout",
     "output_type": "stream",
     "text": [
      "Minimo: 0.0\n",
      "Maximo: 200000.0\n",
      "Promedio: 233.79532799296635\n",
      "-------\n",
      "Minimo: 0.0\n",
      "Maximo: 187000.0\n",
      "Promedio: 133.05018112186985\n"
     ]
    }
   ],
   "source": [
    "#¿Entre que superficies oscilan las propiedades?\n",
    "min_max('surface_total_in_m2')\n",
    "print(\"-------\")\n",
    "min_max('surface_covered_in_m2')"
   ]
  },
  {
   "cell_type": "code",
   "execution_count": null,
   "id": "ec0d9b0d",
   "metadata": {},
   "outputs": [],
   "source": [
    "#Masara bool para ver datos == 0 "
   ]
  },
  {
   "cell_type": "markdown",
   "id": "1885e3b4",
   "metadata": {},
   "source": [
    "## Eliminación e imputación de datos\n",
    "___"
   ]
  },
  {
   "cell_type": "code",
   "execution_count": 13,
   "id": "286c0403",
   "metadata": {},
   "outputs": [
    {
     "data": {
      "text/plain": [
       "0"
      ]
     },
     "execution_count": 13,
     "metadata": {},
     "output_type": "execute_result"
    }
   ],
   "source": [
    "#Determinamos duplicados para eliminarlos\n",
    "data_properati.duplicated().sum()\n"
   ]
  },
  {
   "cell_type": "code",
   "execution_count": 14,
   "id": "6cf203a3",
   "metadata": {},
   "outputs": [
    {
     "data": {
      "text/plain": [
       "(121220, 26)"
      ]
     },
     "execution_count": 14,
     "metadata": {},
     "output_type": "execute_result"
    }
   ],
   "source": [
    "#Eliminamos cualquier fila duplicada que pueda tener \n",
    "data_properati = data_properati.drop_duplicates()\n",
    "data_properati.shape"
   ]
  },
  {
   "cell_type": "code",
   "execution_count": 44,
   "id": "6fc6afe5",
   "metadata": {},
   "outputs": [],
   "source": [
    "\"\"\"\n",
    "Eliminación de variables que consideramos no predictoras o por la cantidad de datos faltantes\n",
    "Excepto descripción y titulo por su información \n",
    "Unnamed: 0, operation, country_name, floor, geonames_id, lat, lon, image_thumbnail    \n",
    "\"\"\"\n",
    "data_properati = data_properati.drop(columns=['Unnamed: 0', 'operation', 'country_name', 'geonames_id', 'floor', 'image_thumbnail', 'lat-lon', 'properati_url', 'lat', 'lon'])"
   ]
  },
  {
   "cell_type": "code",
   "execution_count": 4,
   "id": "608214e5",
   "metadata": {},
   "outputs": [
    {
     "data": {
      "text/plain": [
       "Unnamed: 0                     0.000000\n",
       "operation                      0.000000\n",
       "property_type                  0.000000\n",
       "place_name                     0.018974\n",
       "place_with_parent_names        0.000000\n",
       "country_name                   0.000000\n",
       "state_name                     0.000000\n",
       "geonames_id                   15.440521\n",
       "lat-lon                       42.525986\n",
       "lat                           42.525986\n",
       "lon                           42.525986\n",
       "price                         16.837156\n",
       "currency                      16.837981\n",
       "price_aprox_local_currency    16.837156\n",
       "price_aprox_usd               16.837156\n",
       "surface_total_in_m2           32.443491\n",
       "surface_covered_in_m2         16.422208\n",
       "price_usd_per_m2              43.394654\n",
       "price_per_m2                  27.686850\n",
       "floor                         93.483749\n",
       "rooms                         60.905791\n",
       "expenses                      88.234615\n",
       "properati_url                  0.000000\n",
       "description                    0.001650\n",
       "title                          0.000000\n",
       "image_thumbnail                2.567233\n",
       "dtype: float64"
      ]
     },
     "execution_count": 4,
     "metadata": {},
     "output_type": "execute_result"
    }
   ],
   "source": [
    "def isna():\n",
    "    return data_properati.isna().mean()*100\n",
    "\n",
    "isna()"
   ]
  },
  {
   "cell_type": "code",
   "execution_count": null,
   "id": "09e6fbdf",
   "metadata": {},
   "outputs": [],
   "source": [
    "\"\"\"\n",
    "place_name -> a partir de place_with_parent_names\n",
    "price -> Convertir monedas != a dolares\n",
    "price_usd_per_m2 -> a partir del precio dividio superficie\n",
    "\n",
    "1. Imputación de la columna place_name con la variable place_with_parent_names mediante expresiones regulares obteniendo el ultimo nombre de las tres columnas ?|?|Mataderos|\n",
    "2. Analizar si exiten valores nulos en el precio USD pero con valores en precio ARG para realizar\n",
    "la conversión\n",
    "3. Imputar columna price_usd_per_m2 por los valores convertidos de price_per_m2 \n",
    "4. Extraer datos de descripción mediante expresiones regulares para completar pisos, cuartos\n",
    "5. Extraer información de ambientes para la creación de una nueva columna\n",
    "6. Realizar una lista de palabras importantes para extraer información        \n",
    "\"\"\""
   ]
  },
  {
   "cell_type": "markdown",
   "id": "2170523b",
   "metadata": {},
   "source": [
    "#### Imputación variable 'place name'\n",
    "___"
   ]
  },
  {
   "cell_type": "code",
   "execution_count": null,
   "id": "76b8bc9d",
   "metadata": {},
   "outputs": [],
   "source": [
    "#Imputación columna place_name con la variable place_with_parent_names mediante expresión regular\n",
    "expresion_regular = (\\|\\w+\\s?\\w+\\s?\\w+\\|$)"
   ]
  },
  {
   "cell_type": "code",
   "execution_count": 46,
   "id": "438a4fec",
   "metadata": {},
   "outputs": [
    {
     "data": {
      "text/plain": [
       "|Argentina|Bs.As. G.B.A. Zona Norte|Tigre||    23\n",
       "Name: place_with_parent_names, dtype: int64"
      ]
     },
     "execution_count": 46,
     "metadata": {},
     "output_type": "execute_result"
    }
   ],
   "source": [
    "from cmath import nan\n",
    "#Determinamos los datos vacios de place_name\n",
    "#Aplicamos la mascara booleana\n",
    "#Observamos que barrios hay y cuantos son\n",
    "\n",
    "place_nan = data_properati['place_name'].isna()\n",
    "data_place_nan = data_properati[place_nan]\n",
    "data_place_nan['place_with_parent_names'].value_counts()"
   ]
  },
  {
   "cell_type": "code",
   "execution_count": 47,
   "id": "ae3c8a1b",
   "metadata": {},
   "outputs": [],
   "source": [
    "#Como vemos que en todos los valores faltantes el barrio es el mismo (tigre) imputamos los valores faltantes con el mismo\n",
    "data_properati['place_name'] = data_properati['place_name'].fillna('Tigre')"
   ]
  },
  {
   "cell_type": "code",
   "execution_count": 48,
   "id": "ea24d161",
   "metadata": {},
   "outputs": [
    {
     "data": {
      "text/plain": [
       "0"
      ]
     },
     "execution_count": 48,
     "metadata": {},
     "output_type": "execute_result"
    }
   ],
   "source": [
    "#dropeamos otra columna para la cual no tenemos uso y vemos como quedaron los datos\n",
    "data_properati = data_properati.drop('place_with_parent_names', axis=1)\n",
    "data_properati['place_name'].isna().sum()"
   ]
  },
  {
   "cell_type": "code",
   "execution_count": 49,
   "id": "086e90b8",
   "metadata": {},
   "outputs": [
    {
     "data": {
      "text/plain": [
       "property_type                 0.000000\n",
       "place_name                    0.000000\n",
       "state_name                    0.000000\n",
       "price                         0.168372\n",
       "currency                      0.168380\n",
       "price_aprox_local_currency    0.168372\n",
       "price_aprox_usd               0.168372\n",
       "surface_total_in_m2           0.324435\n",
       "surface_covered_in_m2         0.164222\n",
       "price_usd_per_m2              0.433947\n",
       "price_per_m2                  0.276869\n",
       "rooms                         0.609058\n",
       "expenses                      0.882346\n",
       "description                   0.000016\n",
       "title                         0.000000\n",
       "dtype: float64"
      ]
     },
     "execution_count": 49,
     "metadata": {},
     "output_type": "execute_result"
    }
   ],
   "source": [
    "isna()"
   ]
  },
  {
   "cell_type": "markdown",
   "id": "679a7cc2",
   "metadata": {},
   "source": [
    "#### Drop variable price\n",
    "___\n",
    "\n",
    "Se dropea ya que no se puede realizar una regresión de la variable a predecir price"
   ]
  },
  {
   "cell_type": "code",
   "execution_count": 50,
   "id": "90843800",
   "metadata": {},
   "outputs": [],
   "source": [
    "def count_na_notna(df, variable):\n",
    "    print(\"Datos not na:\", df[f\"{variable}\"].notna().sum())\n",
    "    print(\"Datos nulos:\", df[f\"{variable}\"].isna().sum())"
   ]
  },
  {
   "cell_type": "code",
   "execution_count": 51,
   "id": "e91c4ff0",
   "metadata": {},
   "outputs": [],
   "source": [
    "data_properati = data_properati.dropna(subset=['price'])"
   ]
  },
  {
   "cell_type": "code",
   "execution_count": 52,
   "id": "b2608be0",
   "metadata": {},
   "outputs": [
    {
     "name": "stdout",
     "output_type": "stream",
     "text": [
      "Datos not na: 100810\n",
      "Datos nulos: 0\n"
     ]
    }
   ],
   "source": [
    "count_na_notna(data_properati, 'price')"
   ]
  },
  {
   "cell_type": "markdown",
   "id": "f6f086ab",
   "metadata": {},
   "source": [
    "#### Imputación variable 'surface total in m2'\n",
    "___"
   ]
  },
  {
   "cell_type": "code",
   "execution_count": 53,
   "id": "dfb4d008",
   "metadata": {},
   "outputs": [
    {
     "name": "stdout",
     "output_type": "stream",
     "text": [
      "Datos not na: 68866\n",
      "Datos nulos: 31944\n"
     ]
    }
   ],
   "source": [
    "count_na_notna(data_properati, 'surface_total_in_m2')"
   ]
  },
  {
   "cell_type": "code",
   "execution_count": 54,
   "id": "aac0baa0",
   "metadata": {},
   "outputs": [
    {
     "data": {
      "text/plain": [
       "count     68866.000000\n",
       "mean        222.165989\n",
       "std        1756.270873\n",
       "min           0.000000\n",
       "25%          50.000000\n",
       "50%          82.000000\n",
       "75%         200.000000\n",
       "max      200000.000000\n",
       "Name: surface_total_in_m2, dtype: float64"
      ]
     },
     "execution_count": 54,
     "metadata": {},
     "output_type": "execute_result"
    }
   ],
   "source": [
    "data_properati['surface_total_in_m2'].describe()"
   ]
  },
  {
   "cell_type": "code",
   "execution_count": 56,
   "id": "8f1d8d48",
   "metadata": {},
   "outputs": [
    {
     "data": {
      "text/plain": [
       "(249, 15)"
      ]
     },
     "execution_count": 56,
     "metadata": {},
     "output_type": "execute_result"
    }
   ],
   "source": [
    "#¿Que hacer con los valores iguales a 0?\n",
    "surface_total_0 = data_properati['surface_total_in_m2'] == 0\n",
    "data_properati[surface_total_0].shape"
   ]
  },
  {
   "cell_type": "code",
   "execution_count": null,
   "id": "271ba9bc",
   "metadata": {},
   "outputs": [],
   "source": [
    "#Eliminación de datos outlayer surface_total = 0\n",
    "data_properati = data_properati.drop(surface_total_0)"
   ]
  },
  {
   "cell_type": "code",
   "execution_count": 62,
   "id": "868418d2",
   "metadata": {},
   "outputs": [
    {
     "data": {
      "text/html": [
       "<div>\n",
       "<style scoped>\n",
       "    .dataframe tbody tr th:only-of-type {\n",
       "        vertical-align: middle;\n",
       "    }\n",
       "\n",
       "    .dataframe tbody tr th {\n",
       "        vertical-align: top;\n",
       "    }\n",
       "\n",
       "    .dataframe thead th {\n",
       "        text-align: right;\n",
       "    }\n",
       "</style>\n",
       "<table border=\"1\" class=\"dataframe\">\n",
       "  <thead>\n",
       "    <tr style=\"text-align: right;\">\n",
       "      <th></th>\n",
       "      <th>property_type</th>\n",
       "      <th>place_name</th>\n",
       "      <th>state_name</th>\n",
       "      <th>price</th>\n",
       "      <th>currency</th>\n",
       "      <th>price_aprox_local_currency</th>\n",
       "      <th>price_aprox_usd</th>\n",
       "      <th>surface_total_in_m2</th>\n",
       "      <th>surface_covered_in_m2</th>\n",
       "      <th>price_usd_per_m2</th>\n",
       "      <th>price_per_m2</th>\n",
       "      <th>rooms</th>\n",
       "      <th>expenses</th>\n",
       "      <th>description</th>\n",
       "      <th>title</th>\n",
       "    </tr>\n",
       "  </thead>\n",
       "  <tbody>\n",
       "    <tr>\n",
       "      <th>13405</th>\n",
       "      <td>apartment</td>\n",
       "      <td>Santa Fe</td>\n",
       "      <td>Santa Fe</td>\n",
       "      <td>120000.0</td>\n",
       "      <td>USD</td>\n",
       "      <td>2.117340e+06</td>\n",
       "      <td>120000.00</td>\n",
       "      <td>200000.0</td>\n",
       "      <td>80.0</td>\n",
       "      <td>0.600000</td>\n",
       "      <td>1500.000000</td>\n",
       "      <td>3.0</td>\n",
       "      <td>1000.0</td>\n",
       "      <td>ambientes amplios, iluminados a la calle, idea...</td>\n",
       "      <td>Departamento venta</td>\n",
       "    </tr>\n",
       "    <tr>\n",
       "      <th>24548</th>\n",
       "      <td>apartment</td>\n",
       "      <td>San Telmo</td>\n",
       "      <td>Capital Federal</td>\n",
       "      <td>46545445.0</td>\n",
       "      <td>USD</td>\n",
       "      <td>8.212711e+08</td>\n",
       "      <td>46545445.00</td>\n",
       "      <td>200000.0</td>\n",
       "      <td>NaN</td>\n",
       "      <td>232.727225</td>\n",
       "      <td>NaN</td>\n",
       "      <td>3.0</td>\n",
       "      <td>NaN</td>\n",
       "      <td>dsdffhghvcvbcdfdfghdfhghkjhkhjklhjkfgvghfghnfg...</td>\n",
       "      <td>Departamento venta</td>\n",
       "    </tr>\n",
       "    <tr>\n",
       "      <th>44246</th>\n",
       "      <td>house</td>\n",
       "      <td>Zárate</td>\n",
       "      <td>Buenos Aires Interior</td>\n",
       "      <td>320000.0</td>\n",
       "      <td>USD</td>\n",
       "      <td>5.646240e+06</td>\n",
       "      <td>320000.00</td>\n",
       "      <td>154438.0</td>\n",
       "      <td>350.0</td>\n",
       "      <td>2.072029</td>\n",
       "      <td>914.285714</td>\n",
       "      <td>NaN</td>\n",
       "      <td>NaN</td>\n",
       "      <td>LindÃ­sima casa, desarrollada en dos planta, s...</td>\n",
       "      <td>Casa 154438m² con Dependencias, Buenos Aires I...</td>\n",
       "    </tr>\n",
       "    <tr>\n",
       "      <th>53312</th>\n",
       "      <td>house</td>\n",
       "      <td>San Antonio de Arredondo</td>\n",
       "      <td>Córdoba</td>\n",
       "      <td>1545000.0</td>\n",
       "      <td>USD</td>\n",
       "      <td>2.726075e+07</td>\n",
       "      <td>1545000.00</td>\n",
       "      <td>110000.0</td>\n",
       "      <td>400.0</td>\n",
       "      <td>14.045455</td>\n",
       "      <td>3862.500000</td>\n",
       "      <td>15.0</td>\n",
       "      <td>NaN</td>\n",
       "      <td>DUEÑO VENDE* FINCA CON 110.000m2DE TERRENO*AMP...</td>\n",
       "      <td>Casa venta</td>\n",
       "    </tr>\n",
       "    <tr>\n",
       "      <th>86675</th>\n",
       "      <td>apartment</td>\n",
       "      <td>Córdoba</td>\n",
       "      <td>Córdoba</td>\n",
       "      <td>2260000.0</td>\n",
       "      <td>ARS</td>\n",
       "      <td>2.236424e+06</td>\n",
       "      <td>126749.10</td>\n",
       "      <td>107000.0</td>\n",
       "      <td>80.0</td>\n",
       "      <td>1.184571</td>\n",
       "      <td>28250.000000</td>\n",
       "      <td>NaN</td>\n",
       "      <td>NaN</td>\n",
       "      <td>Departamento 107000m², Córdoba, Córdoba, por $...</td>\n",
       "      <td>Departamento - General Paz</td>\n",
       "    </tr>\n",
       "    <tr>\n",
       "      <th>86698</th>\n",
       "      <td>apartment</td>\n",
       "      <td>Córdoba</td>\n",
       "      <td>Córdoba</td>\n",
       "      <td>2360000.0</td>\n",
       "      <td>ARS</td>\n",
       "      <td>2.335381e+06</td>\n",
       "      <td>132357.47</td>\n",
       "      <td>107000.0</td>\n",
       "      <td>80.0</td>\n",
       "      <td>1.236986</td>\n",
       "      <td>29500.000000</td>\n",
       "      <td>NaN</td>\n",
       "      <td>NaN</td>\n",
       "      <td>Departamento 107000m², Córdoba, Córdoba, por $...</td>\n",
       "      <td>Departamento - General Paz</td>\n",
       "    </tr>\n",
       "  </tbody>\n",
       "</table>\n",
       "</div>"
      ],
      "text/plain": [
       "      property_type                place_name             state_name  \\\n",
       "13405     apartment                  Santa Fe               Santa Fe   \n",
       "24548     apartment                 San Telmo        Capital Federal   \n",
       "44246         house                    Zárate  Buenos Aires Interior   \n",
       "53312         house  San Antonio de Arredondo                Córdoba   \n",
       "86675     apartment                   Córdoba                Córdoba   \n",
       "86698     apartment                   Córdoba                Córdoba   \n",
       "\n",
       "            price currency  price_aprox_local_currency  price_aprox_usd  \\\n",
       "13405    120000.0      USD                2.117340e+06        120000.00   \n",
       "24548  46545445.0      USD                8.212711e+08      46545445.00   \n",
       "44246    320000.0      USD                5.646240e+06        320000.00   \n",
       "53312   1545000.0      USD                2.726075e+07       1545000.00   \n",
       "86675   2260000.0      ARS                2.236424e+06        126749.10   \n",
       "86698   2360000.0      ARS                2.335381e+06        132357.47   \n",
       "\n",
       "       surface_total_in_m2  surface_covered_in_m2  price_usd_per_m2  \\\n",
       "13405             200000.0                   80.0          0.600000   \n",
       "24548             200000.0                    NaN        232.727225   \n",
       "44246             154438.0                  350.0          2.072029   \n",
       "53312             110000.0                  400.0         14.045455   \n",
       "86675             107000.0                   80.0          1.184571   \n",
       "86698             107000.0                   80.0          1.236986   \n",
       "\n",
       "       price_per_m2  rooms  expenses  \\\n",
       "13405   1500.000000    3.0    1000.0   \n",
       "24548           NaN    3.0       NaN   \n",
       "44246    914.285714    NaN       NaN   \n",
       "53312   3862.500000   15.0       NaN   \n",
       "86675  28250.000000    NaN       NaN   \n",
       "86698  29500.000000    NaN       NaN   \n",
       "\n",
       "                                             description  \\\n",
       "13405  ambientes amplios, iluminados a la calle, idea...   \n",
       "24548  dsdffhghvcvbcdfdfghdfhghkjhkhjklhjkfgvghfghnfg...   \n",
       "44246  LindÃ­sima casa, desarrollada en dos planta, s...   \n",
       "53312  DUEÑO VENDE* FINCA CON 110.000m2DE TERRENO*AMP...   \n",
       "86675  Departamento 107000m², Córdoba, Córdoba, por $...   \n",
       "86698  Departamento 107000m², Córdoba, Córdoba, por $...   \n",
       "\n",
       "                                                   title  \n",
       "13405                                 Departamento venta  \n",
       "24548                                 Departamento venta  \n",
       "44246  Casa 154438m² con Dependencias, Buenos Aires I...  \n",
       "53312                                         Casa venta  \n",
       "86675                         Departamento - General Paz  \n",
       "86698                         Departamento - General Paz  "
      ]
     },
     "execution_count": 62,
     "metadata": {},
     "output_type": "execute_result"
    }
   ],
   "source": [
    "#¿Que hacer con estos valores tan grandes?\n",
    "mask_2 = data_properati['surface_total_in_m2'] >= 100000\n",
    "data_properati[mask_2]\n",
    "#Es posible aptos de 200.000 m2?"
   ]
  },
  {
   "cell_type": "code",
   "execution_count": 31,
   "id": "020a4094",
   "metadata": {},
   "outputs": [],
   "source": [
    "#usamos regex para rellenar los valores faltantes de superficie total en m2 con los datos extraidos de la descripcion\n",
    "pattern_sup = \"(?P<superficie>\\d+)\\s(?:m2|metros cuadrados|)\"\n",
    "superficie_match = data_properati['description'].str.extract(pattern_sup, flags= re.IGNORECASE)\n",
    "sup_match_df= pd.DataFrame(superficie_match)\n",
    "data_properati = data_properati.join(sup_match_df)\n",
    "data_properati['surface_total_in_m2'] = data_properati['surface_total_in_m2'].fillna(data_properati['superficie'])"
   ]
  },
  {
   "cell_type": "code",
   "execution_count": 32,
   "id": "8ee14b1a",
   "metadata": {},
   "outputs": [
    {
     "name": "stdout",
     "output_type": "stream",
     "text": [
      "Datos not na: 96407\n",
      "Datos nulos: 4403\n"
     ]
    }
   ],
   "source": [
    "count_na_notna(data_properati, 'surface_total_in_m2')"
   ]
  },
  {
   "cell_type": "markdown",
   "id": "f398ff96",
   "metadata": {},
   "source": [
    "#### Imputación variable 'price per m2' - 'price usd per m2'\n",
    "___"
   ]
  },
  {
   "cell_type": "code",
   "execution_count": 33,
   "id": "469d2153",
   "metadata": {},
   "outputs": [
    {
     "data": {
      "text/plain": [
       "property_type                 0.000000\n",
       "place_name                    0.000000\n",
       "state_name                    0.000000\n",
       "price                         0.000000\n",
       "currency                      0.000010\n",
       "price_aprox_local_currency    0.000000\n",
       "price_aprox_usd               0.000000\n",
       "surface_total_in_m2           0.043676\n",
       "surface_covered_in_m2         0.130443\n",
       "price_usd_per_m2              0.319343\n",
       "price_per_m2                  0.130463\n",
       "rooms                         0.607390\n",
       "expenses                      0.868604\n",
       "description                   0.000020\n",
       "title                         0.000000\n",
       "superficie                    0.127140\n",
       "dtype: float64"
      ]
     },
     "execution_count": 33,
     "metadata": {},
     "output_type": "execute_result"
    }
   ],
   "source": [
    "#Regresión \n",
    "isna()"
   ]
  },
  {
   "cell_type": "code",
   "execution_count": 37,
   "id": "a7959903",
   "metadata": {},
   "outputs": [],
   "source": [
    "#Eliminación de variables con una alta correlación \n",
    "data_properati = data_properati.drop(columns=['price_aprox_local_currency', 'price_usd_per_m2', 'price_per_m2'])"
   ]
  },
  {
   "cell_type": "code",
   "execution_count": 38,
   "id": "3e6cf081",
   "metadata": {},
   "outputs": [
    {
     "data": {
      "text/plain": [
       "property_type            0.000000\n",
       "place_name               0.000000\n",
       "state_name               0.000000\n",
       "price                    0.000000\n",
       "currency                 0.000010\n",
       "price_aprox_usd          0.000000\n",
       "surface_total_in_m2      0.043676\n",
       "surface_covered_in_m2    0.130443\n",
       "rooms                    0.607390\n",
       "expenses                 0.868604\n",
       "description              0.000020\n",
       "title                    0.000000\n",
       "superficie               0.127140\n",
       "dtype: float64"
      ]
     },
     "execution_count": 38,
     "metadata": {},
     "output_type": "execute_result"
    }
   ],
   "source": [
    "isna()"
   ]
  },
  {
   "cell_type": "code",
   "execution_count": 39,
   "id": "eade9e10",
   "metadata": {},
   "outputs": [],
   "source": [
    "#Eliminamos las columnas con un gran porcentaje de datos nulos y variable superficie que completa surface\n",
    "data_properati = data_properati.drop(columns=['price', 'currency', 'rooms', 'expenses', 'description', 'title', 'superficie'])"
   ]
  },
  {
   "cell_type": "code",
   "execution_count": 40,
   "id": "b7c7626d",
   "metadata": {},
   "outputs": [
    {
     "data": {
      "text/plain": [
       "property_type            0.000000\n",
       "place_name               0.000000\n",
       "state_name               0.000000\n",
       "price_aprox_usd          0.000000\n",
       "surface_total_in_m2      0.043676\n",
       "surface_covered_in_m2    0.130443\n",
       "superficie               0.127140\n",
       "dtype: float64"
      ]
     },
     "execution_count": 40,
     "metadata": {},
     "output_type": "execute_result"
    }
   ],
   "source": [
    "isna()"
   ]
  },
  {
   "cell_type": "code",
   "execution_count": null,
   "id": "19e78859",
   "metadata": {},
   "outputs": [],
   "source": [
    "#BUSCAR LA FORMA DE IMPUTAR SURFACE TOTAL IN M2, SURFACE COVERED IN M2 Y "
   ]
  },
  {
   "cell_type": "code",
   "execution_count": null,
   "id": "741c1a50",
   "metadata": {},
   "outputs": [],
   "source": [
    "#Eliminación del resto de datos nulos\n",
    "data_properati = data_properati.dropna(subset=['surface_total_in_m2', 'surface_total_in_m2', 'surface_covered_in_m2'])"
   ]
  },
  {
   "cell_type": "markdown",
   "id": "3d7a718f",
   "metadata": {},
   "source": [
    "## Analisis Descriptivo\n",
    "___\n",
    "\n",
    "Promedios, Variazas, correlación, desviación, media, moda"
   ]
  },
  {
   "cell_type": "code",
   "execution_count": 54,
   "id": "aa202713",
   "metadata": {},
   "outputs": [
    {
     "data": {
      "text/html": [
       "<div>\n",
       "<style scoped>\n",
       "    .dataframe tbody tr th:only-of-type {\n",
       "        vertical-align: middle;\n",
       "    }\n",
       "\n",
       "    .dataframe tbody tr th {\n",
       "        vertical-align: top;\n",
       "    }\n",
       "\n",
       "    .dataframe thead th {\n",
       "        text-align: right;\n",
       "    }\n",
       "</style>\n",
       "<table border=\"1\" class=\"dataframe\">\n",
       "  <thead>\n",
       "    <tr style=\"text-align: right;\">\n",
       "      <th></th>\n",
       "      <th>price_aprox_usd</th>\n",
       "    </tr>\n",
       "    <tr>\n",
       "      <th>place_name</th>\n",
       "      <th></th>\n",
       "    </tr>\n",
       "  </thead>\n",
       "  <tbody>\n",
       "    <tr>\n",
       "      <th>Las Calles</th>\n",
       "      <td>2040000.00</td>\n",
       "    </tr>\n",
       "    <tr>\n",
       "      <th>Barrio La Isla</th>\n",
       "      <td>1863598.22</td>\n",
       "    </tr>\n",
       "    <tr>\n",
       "      <th>Bahía del Sol</th>\n",
       "      <td>1700000.00</td>\n",
       "    </tr>\n",
       "    <tr>\n",
       "      <th>Lago Epuyén</th>\n",
       "      <td>1500000.00</td>\n",
       "    </tr>\n",
       "    <tr>\n",
       "      <th>Murphy</th>\n",
       "      <td>1500000.00</td>\n",
       "    </tr>\n",
       "  </tbody>\n",
       "</table>\n",
       "</div>"
      ],
      "text/plain": [
       "                price_aprox_usd\n",
       "place_name                     \n",
       "Las Calles           2040000.00\n",
       "Barrio La Isla       1863598.22\n",
       "Bahía del Sol        1700000.00\n",
       "Lago Epuyén          1500000.00\n",
       "Murphy               1500000.00"
      ]
     },
     "execution_count": 54,
     "metadata": {},
     "output_type": "execute_result"
    }
   ],
   "source": [
    "#vemos la distribucion de los precios promedio y los 5 barrios mas caros \n",
    "group_price_mean = data_properati.groupby('place_name')['price_aprox_usd'].mean()\n",
    "group_price_mean = round(group_price_mean, 2)\n",
    "price_mean = pd.DataFrame(group_price_mean).sort_values(by= 'price_aprox_usd',ascending=False)\n",
    "price_mean.head(5)"
   ]
  },
  {
   "cell_type": "code",
   "execution_count": 56,
   "id": "e2fe7680",
   "metadata": {},
   "outputs": [
    {
     "data": {
      "image/png": "[encoded data removed]",
      "text/plain": [
       "<Figure size 1200x720 with 1 Axes>"
      ]
     },
     "metadata": {
      "needs_background": "light"
     },
     "output_type": "display_data"
    }
   ],
   "source": [
    "fig, ax = plt.subplots(figsize=(15,9), dpi= 80)\n",
    "sns.scatterplot(x='place_name',y='price_aprox_usd',data=price_mean);"
   ]
  },
  {
   "cell_type": "code",
   "execution_count": null,
   "id": "8eb9ed6c",
   "metadata": {},
   "outputs": [],
   "source": [
    "#medimos la dispersion del precio por barrio y mostramos los 5 barros con mayor dispersion\n",
    "disp=data_properati.groupby('place_name')['price_per_m2_x'].apply(lambda x : x.std()/x.mean()).sort_values(ascending= False)\n",
    "dispdf=pd.DataFrame(disp).reset_index()\n",
    "dispdf.head(5)"
   ]
  },
  {
   "cell_type": "markdown",
   "id": "c6045a89",
   "metadata": {},
   "source": [
    "### Creación de nuevas variables\n",
    "___"
   ]
  },
  {
   "cell_type": "markdown",
   "id": "a426ec33",
   "metadata": {},
   "source": [
    "# Trabajo practico número 2\n",
    "___"
   ]
  },
  {
   "cell_type": "markdown",
   "id": "7adbc47f",
   "metadata": {},
   "source": [
    "## Selección de datos\n",
    "___"
   ]
  },
  {
   "cell_type": "code",
   "execution_count": 6,
   "id": "b6b14459",
   "metadata": {},
   "outputs": [],
   "source": [
    "from sklearn.model_selection import train_test_split\n",
    "\n",
    "#Despues de escoger con que datos se van a trabajar\n",
    "target = 0\n",
    "features = 0\n",
    "Xtrain, Xtest, ytrain, ytest = train_test_split(features, target, random_state=1)\n"
   ]
  },
  {
   "cell_type": "markdown",
   "id": "502c62da",
   "metadata": {},
   "source": [
    "## Desarrollo regresión lineal\n",
    "___"
   ]
  },
  {
   "cell_type": "code",
   "execution_count": 7,
   "id": "070e8d2d",
   "metadata": {},
   "outputs": [],
   "source": [
    "from statistics import mode\n",
    "from sklearn.linear_model import LinearRegression\n",
    "model_reg_line = LinearRegression\n",
    "model_reg_line.fit(Xtrain, ytrain)"
   ]
  },
  {
   "cell_type": "code",
   "execution_count": null,
   "id": "b34593ee",
   "metadata": {},
   "outputs": [],
   "source": [
    "target_predict = model_reg_line.prefict(Xtest)"
   ]
  },
  {
   "cell_type": "markdown",
   "id": "8d571c3b",
   "metadata": {},
   "source": [
    "## Evaluación regresión lineal\n",
    "___"
   ]
  },
  {
   "cell_type": "code",
   "execution_count": 8,
   "id": "75a5c65d",
   "metadata": {},
   "outputs": [],
   "source": [
    "from sklearn import metrics\n",
    "r2 = r2_score(ytest, target_predict)"
   ]
  }
 ],
 "metadata": {
  "kernelspec": {
   "display_name": "Python 3.8.13 ('dhdsblend2021')",
   "language": "python",
   "name": "python3"
  },
  "language_info": {
   "codemirror_mode": {
    "name": "ipython",
    "version": 3
   },
   "file_extension": ".py",
   "mimetype": "text/x-python",
   "name": "python",
   "nbconvert_exporter": "python",
   "pygments_lexer": "ipython3",
   "version": "3.8.13"
  },
  "vscode": {
   "interpreter": {
    "hash": "05a30a0d1379bf96ba6fe0f98a23318ab092e7b34c4082eac6b4d601aecf485e"
   }
  }
 },
 "nbformat": 4,
 "nbformat_minor": 5
}
